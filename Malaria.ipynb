{
  "nbformat": 4,
  "nbformat_minor": 0,
  "metadata": {
    "accelerator": "GPU",
    "colab": {
      "name": "Malaria.ipynb",
      "provenance": [],
      "collapsed_sections": []
    },
    "kernelspec": {
      "display_name": "Python 3",
      "name": "python3"
    },
    "language_info": {
      "name": "python"
    }
  },
  "cells": [
    {
      "cell_type": "code",
      "metadata": {
        "id": "zMBoye9vpFTG"
      },
      "source": [
        "import numpy as np\n",
        "import pandas as pd\n",
        "import matplotlib.pyplot as plt\n",
        "import seaborn as sb"
      ],
      "execution_count": 1,
      "outputs": []
    },
    {
      "cell_type": "code",
      "metadata": {
        "id": "rp5e7sHipWqb"
      },
      "source": [
        "import cv2\n",
        "import pathlib\n",
        "import os"
      ],
      "execution_count": 2,
      "outputs": []
    },
    {
      "cell_type": "code",
      "metadata": {
        "id": "CJXzN7lGpf5U"
      },
      "source": [
        "import tensorflow as tf\n",
        "from tensorflow import keras"
      ],
      "execution_count": 3,
      "outputs": []
    },
    {
      "cell_type": "code",
      "metadata": {
        "colab": {
          "base_uri": "https://localhost:8080/"
        },
        "id": "26S__bhkpkQi",
        "outputId": "507f49d1-ff85-4ff1-cac6-3dd4d8f492e1"
      },
      "source": [
        "from google.colab import drive\n",
        "drive.mount(\"/content/drive\")"
      ],
      "execution_count": 4,
      "outputs": [
        {
          "output_type": "stream",
          "text": [
            "Drive already mounted at /content/drive; to attempt to forcibly remount, call drive.mount(\"/content/drive\", force_remount=True).\n"
          ],
          "name": "stdout"
        }
      ]
    },
    {
      "cell_type": "code",
      "metadata": {
        "id": "qOwK_yQnpqVe"
      },
      "source": [
        "url=\"/content/drive/MyDrive/malaria-cell-image/cell_images\""
      ],
      "execution_count": 5,
      "outputs": []
    },
    {
      "cell_type": "code",
      "metadata": {
        "id": "Jo3NlNg8p6iq"
      },
      "source": [
        "url=pathlib.Path(url)"
      ],
      "execution_count": 6,
      "outputs": []
    },
    {
      "cell_type": "code",
      "metadata": {
        "id": "feKRVURpp9yP"
      },
      "source": [
        "data={\"Parasitized\":list(url.glob(\"Parasitized/*\"))[:2000],\n",
        "      \"Uninfected\":list(url.glob(\"Uninfected/*\"))[:2000]}"
      ],
      "execution_count": 7,
      "outputs": []
    },
    {
      "cell_type": "code",
      "metadata": {
        "id": "SiLu1GyyqPoh"
      },
      "source": [
        "import PIL"
      ],
      "execution_count": 8,
      "outputs": []
    },
    {
      "cell_type": "code",
      "metadata": {
        "colab": {
          "base_uri": "https://localhost:8080/",
          "height": 174
        },
        "id": "ipPOep69qSBN",
        "outputId": "356159ec-4275-4db9-ecd3-a2dc6968adf2"
      },
      "source": [
        "PIL.Image.open(data[\"Uninfected\"][0])"
      ],
      "execution_count": 9,
      "outputs": [
        {
          "output_type": "execute_result",
          "data": {
            "image/png": "[encoded data removed]",
            "text/plain": [
              "<PIL.PngImagePlugin.PngImageFile image mode=RGB size=166x157 at 0x7F1A1DE5D190>"
            ]
          },
          "metadata": {
            "tags": []
          },
          "execution_count": 9
        }
      ]
    },
    {
      "cell_type": "code",
      "metadata": {
        "colab": {
          "base_uri": "https://localhost:8080/",
          "height": 168
        },
        "id": "H3j9yMunqY0V",
        "outputId": "f5b941c8-9cde-4e7c-edb9-56962af162f5"
      },
      "source": [
        "PIL.Image.open(data[\"Parasitized\"][3])"
      ],
      "execution_count": 10,
      "outputs": [
        {
          "output_type": "execute_result",
          "data": {
            "image/png": "[encoded data removed]",
            "text/plain": [
              "<PIL.PngImagePlugin.PngImageFile image mode=RGB size=151x151 at 0x7F1A1DE5D950>"
            ]
          },
          "metadata": {
            "tags": []
          },
          "execution_count": 10
        }
      ]
    },
    {
      "cell_type": "code",
      "metadata": {
        "colab": {
          "base_uri": "https://localhost:8080/"
        },
        "id": "PmHLSEUiqfAL",
        "outputId": "50cfd27d-dc41-4840-b12e-4784e5d53249"
      },
      "source": [
        "len(data[\"Uninfected\"])"
      ],
      "execution_count": 11,
      "outputs": [
        {
          "output_type": "execute_result",
          "data": {
            "text/plain": [
              "2000"
            ]
          },
          "metadata": {
            "tags": []
          },
          "execution_count": 11
        }
      ]
    },
    {
      "cell_type": "code",
      "metadata": {
        "id": "na7nE7QMqsZI"
      },
      "source": [
        "data_index={\"Uninfected\":0,\n",
        "            \"Parasitized\":1}"
      ],
      "execution_count": 12,
      "outputs": []
    },
    {
      "cell_type": "code",
      "metadata": {
        "id": "EPiG4Owjq0lz"
      },
      "source": [
        "x,y=[],[]\n",
        "for nam,lis in data.items():\n",
        "  for l in lis:\n",
        "    img_array=cv2.imread(str(l))\n",
        "    try:\n",
        "      img_reshape=cv2.resize(img_array,dsize=(224,224))\n",
        "    except:\n",
        "      continue\n",
        "    x.append(img_reshape)\n",
        "    y.append(data_index[nam])"
      ],
      "execution_count": 13,
      "outputs": []
    },
    {
      "cell_type": "code",
      "metadata": {
        "colab": {
          "base_uri": "https://localhost:8080/"
        },
        "id": "XrxJnzUdfiG5",
        "outputId": "8af1837d-623d-4919-c391-52a4bcc461ca"
      },
      "source": [
        "len(x)"
      ],
      "execution_count": 14,
      "outputs": [
        {
          "output_type": "execute_result",
          "data": {
            "text/plain": [
              "3998"
            ]
          },
          "metadata": {
            "tags": []
          },
          "execution_count": 14
        }
      ]
    },
    {
      "cell_type": "code",
      "metadata": {
        "colab": {
          "base_uri": "https://localhost:8080/"
        },
        "id": "0yzkGcQnfjMG",
        "outputId": "7f2e9a7f-2800-42d0-e686-0fea6a67d360"
      },
      "source": [
        "len(y)"
      ],
      "execution_count": 15,
      "outputs": [
        {
          "output_type": "execute_result",
          "data": {
            "text/plain": [
              "3998"
            ]
          },
          "metadata": {
            "tags": []
          },
          "execution_count": 15
        }
      ]
    },
    {
      "cell_type": "code",
      "metadata": {
        "id": "Krbe_QMdfkSz"
      },
      "source": [
        "x=np.array(x)\n",
        "y=np.array(y)"
      ],
      "execution_count": 16,
      "outputs": []
    },
    {
      "cell_type": "code",
      "metadata": {
        "id": "jegvb3W3iHLK"
      },
      "source": [
        "x=x/255"
      ],
      "execution_count": 17,
      "outputs": []
    },
    {
      "cell_type": "code",
      "metadata": {
        "id": "Su-Qv8blgx29"
      },
      "source": [
        "import tensorflow_hub as hub"
      ],
      "execution_count": 18,
      "outputs": []
    },
    {
      "cell_type": "code",
      "metadata": {
        "colab": {
          "base_uri": "https://localhost:8080/"
        },
        "id": "AhM4L4-3fqOH",
        "outputId": "4f4fe0be-d038-44ae-8ff7-face2e97e560"
      },
      "source": [
        "model=keras.Sequential([\n",
        "        hub.KerasLayer(\"https://tfhub.dev/tensorflow/resnet_50/feature_vector/1\",trainable=False,input_shape=(224,224,3)),\n",
        "        keras.layers.Dense(1,activation=\"sigmoid\")\n",
        "])\n",
        "model.compile(\n",
        "    optimizer=\"adam\",\n",
        "    loss=\"BinaryCrossentropy\",\n",
        "    metrics=[\"accuracy\"]\n",
        ")\n",
        "model.fit(x,y,epochs=20)"
      ],
      "execution_count": 19,
      "outputs": [
        {
          "output_type": "stream",
          "text": [
            "Epoch 1/20\n",
            "125/125 [==============================] - 51s 110ms/step - loss: 0.4400 - accuracy: 0.8019\n",
            "Epoch 2/20\n",
            "125/125 [==============================] - 13s 104ms/step - loss: 0.2143 - accuracy: 0.9237\n",
            "Epoch 3/20\n",
            "125/125 [==============================] - 13s 104ms/step - loss: 0.1965 - accuracy: 0.9287\n",
            "Epoch 4/20\n",
            "125/125 [==============================] - 13s 105ms/step - loss: 0.1810 - accuracy: 0.9316\n",
            "Epoch 5/20\n",
            "125/125 [==============================] - 13s 104ms/step - loss: 0.1870 - accuracy: 0.9373\n",
            "Epoch 6/20\n",
            "125/125 [==============================] - 13s 103ms/step - loss: 0.1601 - accuracy: 0.9415\n",
            "Epoch 7/20\n",
            "125/125 [==============================] - 13s 104ms/step - loss: 0.1583 - accuracy: 0.9425\n",
            "Epoch 8/20\n",
            "125/125 [==============================] - 13s 104ms/step - loss: 0.1496 - accuracy: 0.9520\n",
            "Epoch 9/20\n",
            "125/125 [==============================] - 13s 105ms/step - loss: 0.1379 - accuracy: 0.9525\n",
            "Epoch 10/20\n",
            "125/125 [==============================] - 13s 105ms/step - loss: 0.1431 - accuracy: 0.9487\n",
            "Epoch 11/20\n",
            "125/125 [==============================] - 13s 104ms/step - loss: 0.1445 - accuracy: 0.9465\n",
            "Epoch 12/20\n",
            "125/125 [==============================] - 13s 104ms/step - loss: 0.1376 - accuracy: 0.9546\n",
            "Epoch 13/20\n",
            "125/125 [==============================] - 13s 104ms/step - loss: 0.1337 - accuracy: 0.9539\n",
            "Epoch 14/20\n",
            "125/125 [==============================] - 13s 104ms/step - loss: 0.1310 - accuracy: 0.9545\n",
            "Epoch 15/20\n",
            "125/125 [==============================] - 13s 104ms/step - loss: 0.1212 - accuracy: 0.9565\n",
            "Epoch 16/20\n",
            "125/125 [==============================] - 13s 104ms/step - loss: 0.1272 - accuracy: 0.9555\n",
            "Epoch 17/20\n",
            "125/125 [==============================] - 13s 104ms/step - loss: 0.1193 - accuracy: 0.9559\n",
            "Epoch 18/20\n",
            "125/125 [==============================] - 13s 104ms/step - loss: 0.1217 - accuracy: 0.9589\n",
            "Epoch 19/20\n",
            "125/125 [==============================] - 13s 104ms/step - loss: 0.1252 - accuracy: 0.9573\n",
            "Epoch 20/20\n",
            "125/125 [==============================] - 13s 104ms/step - loss: 0.1125 - accuracy: 0.9599\n"
          ],
          "name": "stdout"
        },
        {
          "output_type": "execute_result",
          "data": {
            "text/plain": [
              "<tensorflow.python.keras.callbacks.History at 0x7f19bd42b3d0>"
            ]
          },
          "metadata": {
            "tags": []
          },
          "execution_count": 19
        }
      ]
    },
    {
      "cell_type": "code",
      "metadata": {
        "id": "sHvGVyodhGLP"
      },
      "source": [
        "test_data={\"Parasitized\":list(url.glob(\"Parasitized/*\"))[2000:2100],\n",
        "           \"Uninfected\":list(url.glob(\"Uninfected/*\"))[2000:2100]}"
      ],
      "execution_count": 21,
      "outputs": []
    },
    {
      "cell_type": "code",
      "metadata": {
        "colab": {
          "base_uri": "https://localhost:8080/"
        },
        "id": "PIQTqxCcnfsm",
        "outputId": "c861898a-7b45-4e9a-de4c-333c07a7c76f"
      },
      "source": [
        "len(test_data[\"Parasitized\"])"
      ],
      "execution_count": 23,
      "outputs": [
        {
          "output_type": "execute_result",
          "data": {
            "text/plain": [
              "100"
            ]
          },
          "metadata": {
            "tags": []
          },
          "execution_count": 23
        }
      ]
    },
    {
      "cell_type": "code",
      "metadata": {
        "id": "J7GF7gELmgvG"
      },
      "source": [
        "x_test,y_test=[],[]\n",
        "for name,listt in test_data.items():\n",
        "  for i in listt:\n",
        "    img_arra=cv2.imread(str(i))\n",
        "    img_res=cv2.resize(img_arra,(224,224))\n",
        "    x_test.append(img_res)\n",
        "    y_test.append(data_index[name])"
      ],
      "execution_count": 24,
      "outputs": []
    },
    {
      "cell_type": "code",
      "metadata": {
        "id": "WR9vcmxrnAsE"
      },
      "source": [
        "x_test=np.array(x_test)\n",
        "y_test=np.array(y_test)"
      ],
      "execution_count": 25,
      "outputs": []
    },
    {
      "cell_type": "code",
      "metadata": {
        "id": "y6f5L-fWnHCP"
      },
      "source": [
        "x_test=x_test/255"
      ],
      "execution_count": 26,
      "outputs": []
    },
    {
      "cell_type": "code",
      "metadata": {
        "colab": {
          "base_uri": "https://localhost:8080/"
        },
        "id": "9EZCNJgZnNS6",
        "outputId": "3e1dde98-41f2-41dc-a7ff-9abbcad432e9"
      },
      "source": [
        "model.evaluate(x_test,y_test)"
      ],
      "execution_count": 27,
      "outputs": [
        {
          "output_type": "stream",
          "text": [
            "7/7 [==============================] - 2s 190ms/step - loss: 0.1762 - accuracy: 0.9250\n"
          ],
          "name": "stdout"
        },
        {
          "output_type": "execute_result",
          "data": {
            "text/plain": [
              "[0.17622463405132294, 0.925000011920929]"
            ]
          },
          "metadata": {
            "tags": []
          },
          "execution_count": 27
        }
      ]
    },
    {
      "cell_type": "code",
      "metadata": {
        "id": "WPUOw9t_oOme"
      },
      "source": [
        "y_predict=model.predict(x_test)"
      ],
      "execution_count": 28,
      "outputs": []
    },
    {
      "cell_type": "code",
      "metadata": {
        "id": "diraX9m2oSI7"
      },
      "source": [
        "y_pred=[]\n",
        "for j in y_predict:\n",
        "  if j[0]<0.5:\n",
        "    y_pred.append(0)\n",
        "  else:\n",
        "    y_pred.append(1)"
      ],
      "execution_count": 30,
      "outputs": []
    },
    {
      "cell_type": "code",
      "metadata": {
        "id": "_jeCWgW4oUq8"
      },
      "source": [
        "from sklearn import metrics"
      ],
      "execution_count": 31,
      "outputs": []
    },
    {
      "cell_type": "code",
      "metadata": {
        "colab": {
          "base_uri": "https://localhost:8080/",
          "height": 286
        },
        "id": "R8mOGHekow0B",
        "outputId": "acc1ca3f-8f08-4429-8ce5-158f22024c9f"
      },
      "source": [
        "sb.heatmap(metrics.confusion_matrix(y_test,y_pred),annot=True)"
      ],
      "execution_count": 36,
      "outputs": [
        {
          "output_type": "execute_result",
          "data": {
            "text/plain": [
              "<matplotlib.axes._subplots.AxesSubplot at 0x7f19151d3dd0>"
            ]
          },
          "metadata": {
            "tags": []
          },
          "execution_count": 36
        },
        {
          "output_type": "display_data",
          "data": {
            "image/png": "[encoded data removed]",
            "text/plain": [
              "<Figure size 432x288 with 2 Axes>"
            ]
          },
          "metadata": {
            "tags": [],
            "needs_background": "light"
          }
        }
      ]
    },
    {
      "cell_type": "code",
      "metadata": {
        "id": "4Du_rmWmo0ph"
      },
      "source": [
        "model.save_weights(\"malaria.h5\")"
      ],
      "execution_count": 37,
      "outputs": []
    },
    {
      "cell_type": "code",
      "metadata": {
        "id": "ohjTAGFgpU51"
      },
      "source": [
        "file=open(\"malaria.json\",\"w\")\n",
        "file.write(model.to_json())\n",
        "file.close()"
      ],
      "execution_count": 38,
      "outputs": []
    },
    {
      "cell_type": "code",
      "metadata": {
        "id": "2DPR1LVsppVQ"
      },
      "source": [
        "from google.colab import files"
      ],
      "execution_count": 39,
      "outputs": []
    },
    {
      "cell_type": "code",
      "metadata": {
        "colab": {
          "base_uri": "https://localhost:8080/",
          "height": 17
        },
        "id": "62000I1apsMT",
        "outputId": "34504efe-664a-4b3c-e059-8636884de1ba"
      },
      "source": [
        "files.download(\"/content/malaria.h5\")\n",
        "files.download(\"/content/malaria.json\")"
      ],
      "execution_count": 40,
      "outputs": [
        {
          "output_type": "display_data",
          "data": {
            "application/javascript": [
              "\n",
              "    async function download(id, filename, size) {\n",
              "      if (!google.colab.kernel.accessAllowed) {\n",
              "        return;\n",
              "      }\n",
              "      const div = document.createElement('div');\n",
              "      const label = document.createElement('label');\n",
              "      label.textContent = `Downloading \"${filename}\": `;\n",
              "      div.appendChild(label);\n",
              "      const progress = document.createElement('progress');\n",
              "      progress.max = size;\n",
              "      div.appendChild(progress);\n",
              "      document.body.appendChild(div);\n",
              "\n",
              "      const buffers = [];\n",
              "      let downloaded = 0;\n",
              "\n",
              "      const channel = await google.colab.kernel.comms.open(id);\n",
              "      // Send a message to notify the kernel that we're ready.\n",
              "      channel.send({})\n",
              "\n",
              "      for await (const message of channel.messages) {\n",
              "        // Send a message to notify the kernel that we're ready.\n",
              "        channel.send({})\n",
              "        if (message.buffers) {\n",
              "          for (const buffer of message.buffers) {\n",
              "            buffers.push(buffer);\n",
              "            downloaded += buffer.byteLength;\n",
              "            progress.value = downloaded;\n",
              "          }\n",
              "        }\n",
              "      }\n",
              "      const blob = new Blob(buffers, {type: 'application/binary'});\n",
              "      const a = document.createElement('a');\n",
              "      a.href = window.URL.createObjectURL(blob);\n",
              "      a.download = filename;\n",
              "      div.appendChild(a);\n",
              "      a.click();\n",
              "      div.remove();\n",
              "    }\n",
              "  "
            ],
            "text/plain": [
              "<IPython.core.display.Javascript object>"
            ]
          },
          "metadata": {
            "tags": []
          }
        },
        {
          "output_type": "display_data",
          "data": {
            "application/javascript": [
              "download(\"download_c9b4f633-8026-4681-a48a-dba511031733\", \"malaria.h5\", 94467280)"
            ],
            "text/plain": [
              "<IPython.core.display.Javascript object>"
            ]
          },
          "metadata": {
            "tags": []
          }
        },
        {
          "output_type": "display_data",
          "data": {
            "application/javascript": [
              "\n",
              "    async function download(id, filename, size) {\n",
              "      if (!google.colab.kernel.accessAllowed) {\n",
              "        return;\n",
              "      }\n",
              "      const div = document.createElement('div');\n",
              "      const label = document.createElement('label');\n",
              "      label.textContent = `Downloading \"${filename}\": `;\n",
              "      div.appendChild(label);\n",
              "      const progress = document.createElement('progress');\n",
              "      progress.max = size;\n",
              "      div.appendChild(progress);\n",
              "      document.body.appendChild(div);\n",
              "\n",
              "      const buffers = [];\n",
              "      let downloaded = 0;\n",
              "\n",
              "      const channel = await google.colab.kernel.comms.open(id);\n",
              "      // Send a message to notify the kernel that we're ready.\n",
              "      channel.send({})\n",
              "\n",
              "      for await (const message of channel.messages) {\n",
              "        // Send a message to notify the kernel that we're ready.\n",
              "        channel.send({})\n",
              "        if (message.buffers) {\n",
              "          for (const buffer of message.buffers) {\n",
              "            buffers.push(buffer);\n",
              "            downloaded += buffer.byteLength;\n",
              "            progress.value = downloaded;\n",
              "          }\n",
              "        }\n",
              "      }\n",
              "      const blob = new Blob(buffers, {type: 'application/binary'});\n",
              "      const a = document.createElement('a');\n",
              "      a.href = window.URL.createObjectURL(blob);\n",
              "      a.download = filename;\n",
              "      div.appendChild(a);\n",
              "      a.click();\n",
              "      div.remove();\n",
              "    }\n",
              "  "
            ],
            "text/plain": [
              "<IPython.core.display.Javascript object>"
            ]
          },
          "metadata": {
            "tags": []
          }
        },
        {
          "output_type": "display_data",
          "data": {
            "application/javascript": [
              "download(\"download_9570d14e-de77-4a32-8574-86f08cfaf4ec\", \"malaria.json\", 932)"
            ],
            "text/plain": [
              "<IPython.core.display.Javascript object>"
            ]
          },
          "metadata": {
            "tags": []
          }
        }
      ]
    }
  ]
}